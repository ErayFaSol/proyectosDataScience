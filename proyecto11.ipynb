{
 "cells": [
  {
   "cell_type": "markdown",
   "metadata": {},
   "source": [
    "# Proyecto 11 Álgebra lineal"
   ]
  },
  {
   "cell_type": "markdown",
   "metadata": {},
   "source": [
    "La compañía de seguros Sure Tomorrow quiere resolver varias tareas con la ayuda de machine learning y te pide que evalúes esa posibilidad.\n",
    "\n",
    "- Task 1: encontrar clientes que sean similares al cliente dado. Esto ayudará a los agentes de la compañía con el marketing.\n",
    "- Task 2: predecir la probabilidad de que un nuevo cliente reciba una prestación del seguro. ¿Puede un modelo entrenado hacerlo mejor que un modelo aleatorio?\n",
    "- Task 3: predecir el número de prestaciones de seguro que un nuevo cliente pueda recibir utilizando un modelo de regresión lineal.\n",
    "- Task 4: desarrollar una forma de proteger los datos personales de los clientes sin afectar al modelo de la tarea anterior.\n",
    "\n",
    "  Es necesario desarrollar un algoritmo de transformación de datos que dificulte la recuperación de la información personal si los datos caen en manos equivocadas. Esto se denomina enmascaramiento de datos (data masking) u ofuscación de datos (data obfuscation). Pero los datos deben protegerse de tal manera que la calidad de los modelos de machine learning no se vea afectada. No es necesario elegir el mejor modelo, basta con demostrar que el algoritmo funciona correctamente."
   ]
  },
  {
   "cell_type": "markdown",
   "metadata": {},
   "source": [
    "## Instrucciones del proyecto"
   ]
  },
  {
   "cell_type": "markdown",
   "metadata": {},
   "source": [
    "- Descarga los datos.\n",
    "- Comprueba que los datos no tengan errores, es decir, que no falten datos, que no haya valores extremos, etc.\n",
    "- Trabaja en cada tarea y responde a las preguntas planteadas en la plantilla del proyecto.\n",
    "- Saca conclusiones basadas en la experiencia adquirida durante la realización del proyecto.\n",
    "\n",
    "Hay dos anexos en la plantilla del proyecto que contienen información útil."
   ]
  },
  {
   "cell_type": "markdown",
   "metadata": {},
   "source": [
    "## Descripcion de datos"
   ]
  },
  {
   "cell_type": "markdown",
   "metadata": {},
   "source": [
    "El dataset está almacenado en el archivo /datasets/insurance_us.csv. Puedes descargar el dataset aquí.\n",
    "\n",
    "- Características: género de la persona asegurada, edad, salario y número de miembros de la familia.\n",
    "- Objetivo: número de prestaciones de seguro recibidas por la persona asegurada en los últimos cinco años."
   ]
  },
  {
   "cell_type": "markdown",
   "metadata": {},
   "source": [
    "## Evaluacion del proyecto"
   ]
  },
  {
   "cell_type": "markdown",
   "metadata": {},
   "source": [
    "Hemos definido los criterios de evaluación para el proyecto. Léelos con atención antes de pasar al ejercicio.\n",
    "\n",
    "Esto es en lo que se fijarán los revisores al examinar tu proyecto:\n",
    "\n",
    "- ¿Seguiste todos los pasos de las instrucciones?\n",
    "- ¿Mantuviste la estructura del proyecto?\n",
    "- ¿Mantuviste el código limpio?\n",
    "- ¿Desarrollaste todos los procedimientos necesarios y respondiste a todas las preguntas?\n",
    "- ¿Sacaste tus conclusiones?\n",
    "\n",
    "Al final de la plantilla del proyecto encontrarás una lista de control más detallada.\n",
    "\n",
    "Ya tienes tus hojas informativas y los resúmenes de los capítulos, por lo que todo está listo para continuar con el proyecto.\n",
    "\n",
    "¡Buena suerte!"
   ]
  },
  {
   "cell_type": "markdown",
   "metadata": {},
   "source": [
    "## Importacion de libreria y carga de datos"
   ]
  },
  {
   "cell_type": "code",
   "execution_count": 3,
   "metadata": {},
   "outputs": [],
   "source": [
    "# Importacion de librerias \n",
    "import pandas as pd\n",
    "import numpy as np\n"
   ]
  },
  {
   "cell_type": "code",
   "execution_count": null,
   "metadata": {},
   "outputs": [],
   "source": [
    "# Cargar datos de archivo csv\n",
    "\n",
    "data = pd.read_csv('datasets/insurance_us.csv')"
   ]
  }
 ],
 "metadata": {
  "kernelspec": {
   "display_name": "Python 3",
   "language": "python",
   "name": "python3"
  },
  "language_info": {
   "codemirror_mode": {
    "name": "ipython",
    "version": 3
   },
   "file_extension": ".py",
   "mimetype": "text/x-python",
   "name": "python",
   "nbconvert_exporter": "python",
   "pygments_lexer": "ipython3",
   "version": "3.11.4"
  }
 },
 "nbformat": 4,
 "nbformat_minor": 2
}
