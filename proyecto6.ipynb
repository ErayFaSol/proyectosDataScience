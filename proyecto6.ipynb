{
 "cells": [
  {
   "cell_type": "markdown",
   "metadata": {},
   "source": [
    "# Proyecto integrado\n",
    "\n",
    "## Descripcion del proyecto\n",
    "\n",
    "Trabajas para la tienda online Ice que vende videojuegos por todo el mundo. Las reseñas de usuarios y expertos, los géneros, las plataformas (por ejemplo, Xbox o PlayStation) y los datos históricos sobre las ventas de juegos están disponibles en fuentes abiertas. Tienes que identificar patrones que determinen si un juego tiene éxito o no. Esto te permitirá detectar proyectos prometedores y planificar campañas publicitarias.\n",
    "\n",
    "\n",
    "Delante de ti hay datos que se remontan a 2016. Imaginemos que es diciembre de 2016 y estás planeando una campaña para 2017.\n",
    "(Lo importante es adquirir experiencia de trabajo con datos. Realmente no importa si estás pronosticando las ventas de 2017 en función de los datos de 2016 o las ventas de 2027 en función de los datos de 2026.)\n",
    "\n",
    "\n",
    "El dataset contiene la abreviatura ESRB. The Entertainment Software Rating Board (la Junta de clasificación de software de entretenimiento) evalúa el contenido de un juego y asigna una clasificación de edad como Adolescente o Adulto.\n"
   ]
  },
  {
   "cell_type": "markdown",
   "metadata": {},
   "source": [
    "## Instrucciones para completar el proyecto\n"
   ]
  },
  {
   "cell_type": "markdown",
   "metadata": {},
   "source": [
    "### Paso 1. Abre el archivo de datos y estudia la informacion general"
   ]
  },
  {
   "cell_type": "code",
   "execution_count": null,
   "metadata": {},
   "outputs": [],
   "source": [
    "# Cargar todas las librerías\n",
    "import pandas as pd\n",
    "import numpy as np\n",
    "import seaborn as sns\n",
    "import matplotlib.pyplot as plt\n",
    "from IPython.display import HTML\n",
    "\n",
    "#abrir archivos\n",
    "\n",
    "df = pd.read_csv('datasets/games.csv')\n",
    "\n",
    "df.info()\n",
    "\n",
    "display(HTML('<hr>'))\n",
    "\n",
    "display(df.head(15))\n",
    "\n",
    "display(HTML('<hr>'))\n",
    "\n",
    "df.describe()\n"
   ]
  },
  {
   "cell_type": "markdown",
   "metadata": {},
   "source": [
    "### Paso 2. Prepara los datos"
   ]
  },
  {
   "cell_type": "markdown",
   "metadata": {},
   "source": [
    "\n",
    "- Reemplaza los nombres de las columnas (ponlos en minúsculas).\n",
    "- Convierte los datos en los tipos necesarios.\n",
    "- Describe las columnas en las que los tipos de datos han sido cambiados y explica por qué.\n",
    "- Si es necesario, elige la manera de tratar los valores ausentes:\n",
    "    - Explica por qué rellenaste los valores ausentes como lo hiciste o por qué decidiste dejarlos en blanco.\n",
    "    - ¿Por qué crees que los valores están ausentes? Brinda explicaciones posibles.\n",
    "    - Presta atención a la abreviatura TBD: significa \"to be determined\" (a determinar). Especifica cómo piensas manejar estos casos.\n",
    "- Calcula las ventas totales (la suma de las ventas en todas las regiones) para cada juego y coloca estos valores en una columna separada."
   ]
  },
  {
   "cell_type": "code",
   "execution_count": null,
   "metadata": {},
   "outputs": [],
   "source": [
    "#Reemplazar nombres de columnas\n",
    "\n",
    "df.columns = df.columns.str.lower()\n",
    "    \n",
    "print(df.columns)"
   ]
  },
  {
   "cell_type": "code",
   "execution_count": null,
   "metadata": {},
   "outputs": [],
   "source": [
    "#comprobacion de nulos \n",
    "print(df.isna().sum())\n",
    "\n",
    "#comprobacion de duplicados \n",
    "print(\"Duplicados\" , df.duplicated().sum())"
   ]
  },
  {
   "cell_type": "code",
   "execution_count": null,
   "metadata": {},
   "outputs": [],
   "source": [
    "#Eliminar valores nulos en name y genre\n",
    "df = df.dropna(subset=['name', 'genre'])\n",
    "\n",
    "#Convertir 'year_of_release' a int y manejar valores nulos para eliminar .0 y pasar a string\n",
    "\n",
    "df['year_of_release'] = df['year_of_release'].fillna(0).astype(int)\n",
    "#df['year_of_release'] = df['year_of_release'].replace(0, 'Unknown').astype(str)\n",
    "\n",
    "\n",
    "\n",
    "#comprobacion de nulos     \n",
    "print(df.isna().sum())\n"
   ]
  },
  {
   "cell_type": "code",
   "execution_count": null,
   "metadata": {},
   "outputs": [],
   "source": [
    "#convertir calificacion a float\n",
    "df['user_score'] = pd.to_numeric(df['user_score'],errors='coerce')\n",
    "\n",
    "#reemplazar valores en Rating\n",
    "df['rating'] = df['rating'].fillna('TBD')\n",
    "\n",
    "#comprobacion de nulos\n",
    "display('Comprobacion de nulos')\n",
    "print(df.isna().sum())\n",
    "display(HTML('<hr>'))\n",
    "display('comprobacion de tipos de datos')\n",
    "print(df.dtypes)\n",
    "\n"
   ]
  },
  {
   "cell_type": "code",
   "execution_count": null,
   "metadata": {},
   "outputs": [],
   "source": [
    "#Calcular ventas totales\n",
    "#sumar columnas en una nueva\n",
    "\n",
    "df['total_sales'] = df['na_sales'] + df['eu_sales'] + df['jp_sales'] + df['other_sales']\n",
    "\n",
    "display(df.head(15))"
   ]
  },
  {
   "cell_type": "markdown",
   "metadata": {},
   "source": [
    "#### Conclusion paso 2\n",
    "\n",
    "\n",
    "#### Cambios\n",
    "Se cambio el tipo de datos de la columna: \"year_of_release\" de float a int. Este cambio a int se hizo ya que los datos presentaban un punto decimal que en este tipo de datos no tienen razon de ser, se opto manejarlo como tipo entero asi podemos tener la facilidad de realizar comparaciones numericas sobre estos datos que representan el año lanzamiento para poder realizar filtros en operaciones posteriores.\n",
    "\n",
    "Se cambio los datos de la columna user_score de object a float, Este cambio se hizo para poder trabajar los datos en operaciones matematicas mas adelante, se modifico la cadena tbd a nan ya que esto no nos daba informacion y simplemente iba a entorpecer al momento de hacer operaciones matematicas.\n",
    "\n",
    "#### Valores nulos\n",
    "\n",
    "Los valores nulos en las columnas: \"critic_score\", y \"user_score\" se matuvieron intactos ya que debido a lo que representan estos datos, modificarlos podria alterar demasiado los resultados en operaciones como el promedio, por ello se opto mejor por simplemente no utilizarlos al momento de hacer este tipo de operaciones.\n",
    "\n",
    "En las columnas: \"name y genre\" se eliminaron los datos nulos ya que estos eran muy pocos y no alterarian demasiado los resultados en otras operaciones. Para la columna rating se opto por marcar los datos faltantes con las siglas TBD ya que no podemos tomarlos la libertad de descartarlos ya que eliminar estas filas compromete el resultado en otras operaciones. \n",
    "\n",
    "En la columna year of release los valores nulos se reemplazaron por la cadena \"Unknown\"\n",
    "\n",
    "#### Suma de total de ventas\n",
    "\n",
    "Se agrego una nueva columna que representa el total de ventas sumando los datos de las columnas: \"na_sales, eu_sales, jp_sales y other_sales\" \n",
    "\n"
   ]
  },
  {
   "cell_type": "markdown",
   "metadata": {},
   "source": [
    "### Paso 3. Analiza los datos"
   ]
  },
  {
   "cell_type": "markdown",
   "metadata": {},
   "source": [
    "\n",
    "\n",
    "\n",
    "- Mira cuántos juegos fueron lanzados en diferentes años. ¿Son significativos los datos de cada período?\n",
    "- Observa cómo varían las ventas de una plataforma a otra. Elige las plataformas con las mayores ventas totales y construye una distribución basada en los datos de cada año. Busca las plataformas que solían ser populares pero que ahora no tienen ventas. ¿Cuánto tardan generalmente las nuevas plataformas en aparecer y las antiguas en desaparecer?\n",
    "- Determina para qué período debes tomar datos. Para hacerlo mira tus respuestas a las preguntas anteriores. Los datos deberían permitirte construir un modelo para 2017.\n",
    "- Trabaja solo con los datos que consideras relevantes. Ignora los datos de años anteriores.\n",
    "- ¿Qué plataformas son líderes en ventas? ¿Cuáles crecen y cuáles se reducen? Elige varias plataformas potencialmente rentables.\n",
    "- Crea un diagrama de caja para las ventas globales de todos los juegos, desglosados por plataforma. ¿Son significativas las diferencias en las ventas? - ¿Qué sucede con las ventas promedio en varias plataformas? Describe tus hallazgos.\n",
    "- Mira cómo las reseñas de usuarios y profesionales afectan las ventas de una plataforma popular (tu elección). Crea un gráfico de dispersión y calcula la correlación entre las reseñas y las ventas. Saca conclusiones.\n",
    "- Teniendo en cuenta tus conclusiones compara las ventas de los mismos juegos en otras plataformas.\n",
    "- Echa un vistazo a la distribución general de los juegos por género. ¿Qué se puede decir de los géneros más rentables? ¿Puedes generalizar acerca de los géneros con ventas altas y bajas?"
   ]
  },
  {
   "cell_type": "markdown",
   "metadata": {},
   "source": [
    "#### Juegos lanzados por año"
   ]
  },
  {
   "cell_type": "code",
   "execution_count": null,
   "metadata": {},
   "outputs": [],
   "source": [
    "#Numero de juegos por año\n",
    "filtered_df = df[df['year_of_release'] != 0 ]\n",
    "games_per_year = filtered_df.groupby(['year_of_release']).size().reset_index(name='games_count')\n",
    "\n",
    "#grafico de barras \n",
    "sns.set(style='whitegrid')\n",
    "plt.figure(figsize=(14, 6))\n",
    "bars = sns.barplot(x=games_per_year['year_of_release'], y=games_per_year['games_count'].values, color='skyblue')\n",
    "plt.xlabel('Año de Lanzamiento')\n",
    "plt.ylabel('Cantidad de Juegos')\n",
    "plt.title('Juegos lanzados por año')\n",
    "bars.set_xticklabels(bars.get_xticklabels(), rotation=65, horizontalalignment='right')\n",
    "\n",
    "# Mostrar el gráfico\n",
    "plt.show()\n",
    "#Mostrar tabla\n",
    "#display(games_per_year)"
   ]
  },
  {
   "cell_type": "markdown",
   "metadata": {},
   "source": [
    "##### Conclusion grafico de barras\n",
    "\n",
    "La finalidad de este grafico es mostrar una comparacion sobre cuantos juegos han salido en un año con respecto a otros. Al realizar este analisis observamos que de desde los 80 a los 90 la cantidad del juegos lanzados no supera a los 100 juegos, esto podria signicar que el mercado de videojuegos aun era muy selecto y enfocado, a partir de 1994 se observa un cambio significativo con un aumento en la salida de videojuegosm este aumento siguio en los años posteriores. Para 2002 casi se duplica la cantidad de videojuegos y fue en aumento hasta llegar a 2008 que es el año en el que mas videojuegos fueron lanzados y de ahi fue disminuyendo de forma que para en 2016 ya es menos de la mitad de lo que alcanzo este año.\n",
    "\n",
    "Este aumento en el grafico podria indicar varias cosas, la primera es que los primeros años la industria del videojuego era todavia poco conocida y se consideraba mas selecta, conforme pasa el tiempo fue ganando popularidad haciendo que la cantidad de videojuegos lanzados fuera aumentando de forma drastica en años posteriores. Tambien observamos que si bien hay años que despues disminuyen el numero de lanzamientos de videojuegos pudiera significar mas que esta industria se continua estabilizando ya que podemos ver que se sigue manteniendo una buena cantidad de videojuegos.\n"
   ]
  },
  {
   "cell_type": "markdown",
   "metadata": {},
   "source": [
    "#### Ventas por plataforma"
   ]
  },
  {
   "cell_type": "markdown",
   "metadata": {},
   "source": [
    "### Paso 4. Crea un perfil de usuario para cada región"
   ]
  },
  {
   "cell_type": "markdown",
   "metadata": {},
   "source": [
    "Para cada región (NA, UE, JP) determina:\n",
    "- Las cinco plataformas principales. Describe las variaciones en sus cuotas de mercado de una región a otra.\n",
    "- Los cinco géneros principales. Explica la diferencia.\n",
    "- Si las clasificaciones de ESRB afectan a las ventas en regiones individuales."
   ]
  },
  {
   "cell_type": "markdown",
   "metadata": {},
   "source": [
    "### Paso 5. Prueba las siguientes hipótesis:\n"
   ]
  },
  {
   "cell_type": "markdown",
   "metadata": {},
   "source": [
    "- Las calificaciones promedio de los usuarios para las plataformas Xbox One y PC son las mismas.\n",
    "- Las calificaciones promedio de los usuarios para los géneros de Acción y Deportes son diferentes.\n",
    "Establece tu mismo el valor de umbral alfa.\n",
    "\n",
    "Explica:\n",
    "- Cómo formulaste las hipótesis nula y alternativa.\n",
    "- Qué criterio utilizaste para probar las hipótesis y por qué."
   ]
  },
  {
   "cell_type": "markdown",
   "metadata": {},
   "source": [
    "### Paso 6. Escribe una conclusión general"
   ]
  },
  {
   "cell_type": "markdown",
   "metadata": {},
   "source": [
    "Formato: Completa la tarea en Jupyter Notebook. Inserta el código de programación en las celdas code y las explicaciones de texto en las celdas markdown. Aplica formato y agrega encabezados."
   ]
  }
 ],
 "metadata": {
  "kernelspec": {
   "display_name": "Python 3",
   "language": "python",
   "name": "python3"
  },
  "language_info": {
   "codemirror_mode": {
    "name": "ipython",
    "version": 3
   },
   "file_extension": ".py",
   "mimetype": "text/x-python",
   "name": "python",
   "nbconvert_exporter": "python",
   "pygments_lexer": "ipython3",
   "version": "3.11.4"
  }
 },
 "nbformat": 4,
 "nbformat_minor": 2
}
