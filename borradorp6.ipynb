{
 "cells": [
  {
   "cell_type": "markdown",
   "metadata": {},
   "source": [
    "Juego por año"
   ]
  },
  {
   "cell_type": "code",
   "execution_count": null,
   "metadata": {},
   "outputs": [],
   "source": [
    "#Numero de juegos por año\n",
    "filtered_df = df[df['year_of_release'] != 0 ]\n",
    "games_per_year = filtered_df.groupby(['year_of_release']).size().reset_index(name='games_count')\n",
    "\n",
    "#grafico de barras \n",
    "sns.set(style='whitegrid')\n",
    "plt.figure(figsize=(14, 6))\n",
    "bars = sns.barplot(x=games_per_year['year_of_release'], y=games_per_year['games_count'].values, color='skyblue')\n",
    "plt.xlabel('Año de Lanzamiento')\n",
    "plt.ylabel('Cantidad de Juegos')\n",
    "plt.title('Juegos lanzados por año')\n",
    "bars.set_xticklabels(bars.get_xticklabels(), rotation=65, horizontalalignment='right')\n",
    "\n",
    "# Mostrar el gráfico\n",
    "plt.show()\n",
    "#Mostrar tabla\n",
    "#display(games_per_year)"
   ]
  },
  {
   "cell_type": "markdown",
   "metadata": {},
   "source": [
    "ventas por plataforma\n"
   ]
  },
  {
   "cell_type": "code",
   "execution_count": null,
   "metadata": {},
   "outputs": [],
   "source": [
    "top_platforms = filtered_df.groupby(filtered_df['platform'])['total_sales'].sum().sort_values(ascending=False).head(10).index\n",
    "\n",
    "filtered_df = filtered_df[filtered_df['platform'].isin(top_platforms)]\n",
    "sns.set(style=\"darkgrid\")\n",
    "palette = sns.color_palette(\"tab20\", n_colors=len(top_platforms))\n",
    "\n",
    "# Crear el gráfico de líneas para mostrar las ventas de cada plataforma a lo largo del tiempo\n",
    "plt.figure(figsize=(16, 8))\n",
    "lines = sns.lineplot(data=filtered_df, x='year_of_release', y='total_sales', hue='platform', marker='o', markersize=8, errorbar = None, palette=palette)\n",
    "\n",
    "# Añadir etiquetas y título\n",
    "plt.xlabel('Año de Lanzamiento')\n",
    "plt.ylabel('Ventas Globales (en millones)')\n",
    "plt.title('Ventas Globales por Plataforma a lo Largo del Tiempo')\n",
    "\n",
    "# Mostrar el gráfico\n",
    "plt.legend(title='Plataforma', loc='upper left', bbox_to_anchor=(1, 1))"
   ]
  },
  {
   "cell_type": "markdown",
   "metadata": {},
   "source": []
  }
 ],
 "metadata": {
  "language_info": {
   "name": "python"
  }
 },
 "nbformat": 4,
 "nbformat_minor": 2
}
