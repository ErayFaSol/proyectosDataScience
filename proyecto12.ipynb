{
 "cells": [
  {
   "cell_type": "markdown",
   "metadata": {},
   "source": [
    "El servicio de venta de autos usados Rusty Bargain está desarrollando una aplicación para atraer nuevos clientes. Gracias a esa app, puedes averiguar rápidamente el valor de mercado de tu coche. Tienes acceso al historial: especificaciones técnicas, versiones de equipamiento y precios. Tienes que crear un modelo que determine el valor de mercado.\n",
    "A Rusty Bargain le interesa:\n",
    "- la calidad de la predicción;\n",
    "- la velocidad de la predicción;\n",
    "- el tiempo requerido para el entrenamiento"
   ]
  },
  {
   "cell_type": "markdown",
   "metadata": {},
   "source": [
    "## Preparación de datos"
   ]
  },
  {
   "cell_type": "code",
   "execution_count": 24,
   "metadata": {},
   "outputs": [],
   "source": [
    "# Importar bibliotecas\n",
    "import pandas as pd\n",
    "from IPython.display import display, HTML\n",
    "from sklearn.model_selection import train_test_split\n",
    "from sklearn.preprocessing import OneHotEncoder\n",
    "from sklearn.compose import ColumnTransformer\n",
    "from sklearn.pipeline import Pipeline\n",
    "from sklearn.preprocessing import StandardScaler\n",
    "from sklearn.linear_model import LinearRegression\n",
    "from sklearn.tree import DecisionTreeRegressor\n",
    "from sklearn.ensemble import RandomForestRegressor\n",
    "import lightgbm as lgb\n",
    "from sklearn.metrics import mean_squared_error\n",
    "from math import sqrt"
   ]
  },
  {
   "cell_type": "code",
   "execution_count": 3,
   "metadata": {},
   "outputs": [],
   "source": [
    "# Cargar DataSet\n",
    "df = pd.read_csv(\"datasets/car_data.csv\")"
   ]
  },
  {
   "cell_type": "code",
   "execution_count": 4,
   "metadata": {},
   "outputs": [
    {
     "data": {
      "text/html": [
       "<h1> Rusty Bargain DataFrame"
      ],
      "text/plain": [
       "<IPython.core.display.HTML object>"
      ]
     },
     "metadata": {},
     "output_type": "display_data"
    },
    {
     "data": {
      "text/html": [
       "<hr>"
      ],
      "text/plain": [
       "<IPython.core.display.HTML object>"
      ]
     },
     "metadata": {},
     "output_type": "display_data"
    },
    {
     "data": {
      "text/html": [
       "<h2> Informacion general"
      ],
      "text/plain": [
       "<IPython.core.display.HTML object>"
      ]
     },
     "metadata": {},
     "output_type": "display_data"
    },
    {
     "name": "stdout",
     "output_type": "stream",
     "text": [
      "<class 'pandas.core.frame.DataFrame'>\n",
      "RangeIndex: 354369 entries, 0 to 354368\n",
      "Data columns (total 16 columns):\n",
      " #   Column             Non-Null Count   Dtype \n",
      "---  ------             --------------   ----- \n",
      " 0   DateCrawled        354369 non-null  object\n",
      " 1   Price              354369 non-null  int64 \n",
      " 2   VehicleType        316879 non-null  object\n",
      " 3   RegistrationYear   354369 non-null  int64 \n",
      " 4   Gearbox            334536 non-null  object\n",
      " 5   Power              354369 non-null  int64 \n",
      " 6   Model              334664 non-null  object\n",
      " 7   Mileage            354369 non-null  int64 \n",
      " 8   RegistrationMonth  354369 non-null  int64 \n",
      " 9   FuelType           321474 non-null  object\n",
      " 10  Brand              354369 non-null  object\n",
      " 11  NotRepaired        283215 non-null  object\n",
      " 12  DateCreated        354369 non-null  object\n",
      " 13  NumberOfPictures   354369 non-null  int64 \n",
      " 14  PostalCode         354369 non-null  int64 \n",
      " 15  LastSeen           354369 non-null  object\n",
      "dtypes: int64(7), object(9)\n",
      "memory usage: 43.3+ MB\n"
     ]
    },
    {
     "data": {
      "text/plain": [
       "None"
      ]
     },
     "metadata": {},
     "output_type": "display_data"
    },
    {
     "data": {
      "text/html": [
       "<hr>"
      ],
      "text/plain": [
       "<IPython.core.display.HTML object>"
      ]
     },
     "metadata": {},
     "output_type": "display_data"
    },
    {
     "data": {
      "text/html": [
       "<h2> Muestra de tabla"
      ],
      "text/plain": [
       "<IPython.core.display.HTML object>"
      ]
     },
     "metadata": {},
     "output_type": "display_data"
    },
    {
     "data": {
      "text/html": [
       "<div>\n",
       "<style scoped>\n",
       "    .dataframe tbody tr th:only-of-type {\n",
       "        vertical-align: middle;\n",
       "    }\n",
       "\n",
       "    .dataframe tbody tr th {\n",
       "        vertical-align: top;\n",
       "    }\n",
       "\n",
       "    .dataframe thead th {\n",
       "        text-align: right;\n",
       "    }\n",
       "</style>\n",
       "<table border=\"1\" class=\"dataframe\">\n",
       "  <thead>\n",
       "    <tr style=\"text-align: right;\">\n",
       "      <th></th>\n",
       "      <th>DateCrawled</th>\n",
       "      <th>Price</th>\n",
       "      <th>VehicleType</th>\n",
       "      <th>RegistrationYear</th>\n",
       "      <th>Gearbox</th>\n",
       "      <th>Power</th>\n",
       "      <th>Model</th>\n",
       "      <th>Mileage</th>\n",
       "      <th>RegistrationMonth</th>\n",
       "      <th>FuelType</th>\n",
       "      <th>Brand</th>\n",
       "      <th>NotRepaired</th>\n",
       "      <th>DateCreated</th>\n",
       "      <th>NumberOfPictures</th>\n",
       "      <th>PostalCode</th>\n",
       "      <th>LastSeen</th>\n",
       "    </tr>\n",
       "  </thead>\n",
       "  <tbody>\n",
       "    <tr>\n",
       "      <th>25031</th>\n",
       "      <td>20/03/2016 13:43</td>\n",
       "      <td>9300</td>\n",
       "      <td>sedan</td>\n",
       "      <td>2008</td>\n",
       "      <td>manual</td>\n",
       "      <td>156</td>\n",
       "      <td>c_klasse</td>\n",
       "      <td>150000</td>\n",
       "      <td>2</td>\n",
       "      <td>petrol</td>\n",
       "      <td>mercedes_benz</td>\n",
       "      <td>no</td>\n",
       "      <td>20/03/2016 00:00</td>\n",
       "      <td>0</td>\n",
       "      <td>52134</td>\n",
       "      <td>02/04/2016 15:47</td>\n",
       "    </tr>\n",
       "    <tr>\n",
       "      <th>192716</th>\n",
       "      <td>11/03/2016 05:36</td>\n",
       "      <td>699</td>\n",
       "      <td>small</td>\n",
       "      <td>1997</td>\n",
       "      <td>manual</td>\n",
       "      <td>50</td>\n",
       "      <td>micra</td>\n",
       "      <td>150000</td>\n",
       "      <td>4</td>\n",
       "      <td>petrol</td>\n",
       "      <td>nissan</td>\n",
       "      <td>NaN</td>\n",
       "      <td>11/03/2016 00:00</td>\n",
       "      <td>0</td>\n",
       "      <td>59067</td>\n",
       "      <td>22/03/2016 17:47</td>\n",
       "    </tr>\n",
       "    <tr>\n",
       "      <th>136594</th>\n",
       "      <td>09/03/2016 22:57</td>\n",
       "      <td>2500</td>\n",
       "      <td>coupe</td>\n",
       "      <td>1998</td>\n",
       "      <td>manual</td>\n",
       "      <td>197</td>\n",
       "      <td>clk</td>\n",
       "      <td>150000</td>\n",
       "      <td>12</td>\n",
       "      <td>petrol</td>\n",
       "      <td>mercedes_benz</td>\n",
       "      <td>no</td>\n",
       "      <td>09/03/2016 00:00</td>\n",
       "      <td>0</td>\n",
       "      <td>35066</td>\n",
       "      <td>30/03/2016 22:17</td>\n",
       "    </tr>\n",
       "    <tr>\n",
       "      <th>326323</th>\n",
       "      <td>12/03/2016 21:53</td>\n",
       "      <td>9750</td>\n",
       "      <td>sedan</td>\n",
       "      <td>2005</td>\n",
       "      <td>auto</td>\n",
       "      <td>275</td>\n",
       "      <td>a8</td>\n",
       "      <td>150000</td>\n",
       "      <td>6</td>\n",
       "      <td>gasoline</td>\n",
       "      <td>audi</td>\n",
       "      <td>no</td>\n",
       "      <td>12/03/2016 00:00</td>\n",
       "      <td>0</td>\n",
       "      <td>89231</td>\n",
       "      <td>03/04/2016 19:47</td>\n",
       "    </tr>\n",
       "    <tr>\n",
       "      <th>201290</th>\n",
       "      <td>01/04/2016 19:39</td>\n",
       "      <td>350</td>\n",
       "      <td>small</td>\n",
       "      <td>1995</td>\n",
       "      <td>manual</td>\n",
       "      <td>75</td>\n",
       "      <td>3_reihe</td>\n",
       "      <td>150000</td>\n",
       "      <td>3</td>\n",
       "      <td>petrol</td>\n",
       "      <td>peugeot</td>\n",
       "      <td>NaN</td>\n",
       "      <td>01/04/2016 00:00</td>\n",
       "      <td>0</td>\n",
       "      <td>97980</td>\n",
       "      <td>03/04/2016 16:17</td>\n",
       "    </tr>\n",
       "  </tbody>\n",
       "</table>\n",
       "</div>"
      ],
      "text/plain": [
       "             DateCrawled  Price VehicleType  RegistrationYear Gearbox  Power  \\\n",
       "25031   20/03/2016 13:43   9300       sedan              2008  manual    156   \n",
       "192716  11/03/2016 05:36    699       small              1997  manual     50   \n",
       "136594  09/03/2016 22:57   2500       coupe              1998  manual    197   \n",
       "326323  12/03/2016 21:53   9750       sedan              2005    auto    275   \n",
       "201290  01/04/2016 19:39    350       small              1995  manual     75   \n",
       "\n",
       "           Model  Mileage  RegistrationMonth  FuelType          Brand  \\\n",
       "25031   c_klasse   150000                  2    petrol  mercedes_benz   \n",
       "192716     micra   150000                  4    petrol         nissan   \n",
       "136594       clk   150000                 12    petrol  mercedes_benz   \n",
       "326323        a8   150000                  6  gasoline           audi   \n",
       "201290   3_reihe   150000                  3    petrol        peugeot   \n",
       "\n",
       "       NotRepaired       DateCreated  NumberOfPictures  PostalCode  \\\n",
       "25031           no  20/03/2016 00:00                 0       52134   \n",
       "192716         NaN  11/03/2016 00:00                 0       59067   \n",
       "136594          no  09/03/2016 00:00                 0       35066   \n",
       "326323          no  12/03/2016 00:00                 0       89231   \n",
       "201290         NaN  01/04/2016 00:00                 0       97980   \n",
       "\n",
       "                LastSeen  \n",
       "25031   02/04/2016 15:47  \n",
       "192716  22/03/2016 17:47  \n",
       "136594  30/03/2016 22:17  \n",
       "326323  03/04/2016 19:47  \n",
       "201290  03/04/2016 16:17  "
      ]
     },
     "metadata": {},
     "output_type": "display_data"
    }
   ],
   "source": [
    "# Visualizar datos \n",
    "display(HTML('<h1> Rusty Bargain DataFrame'))\n",
    "display(HTML('<hr>'))\n",
    "display(HTML('<h2> Informacion general'))\n",
    "display(df.info())\n",
    "display(HTML('<hr>'))\n",
    "display(HTML('<h2> Muestra de tabla'))\n",
    "display(df.sample(5))"
   ]
  },
  {
   "cell_type": "code",
   "execution_count": 10,
   "metadata": {},
   "outputs": [
    {
     "data": {
      "text/html": [
       "<div>\n",
       "<style scoped>\n",
       "    .dataframe tbody tr th:only-of-type {\n",
       "        vertical-align: middle;\n",
       "    }\n",
       "\n",
       "    .dataframe tbody tr th {\n",
       "        vertical-align: top;\n",
       "    }\n",
       "\n",
       "    .dataframe thead th {\n",
       "        text-align: right;\n",
       "    }\n",
       "</style>\n",
       "<table border=\"1\" class=\"dataframe\">\n",
       "  <thead>\n",
       "    <tr style=\"text-align: right;\">\n",
       "      <th></th>\n",
       "      <th>Total Missing</th>\n",
       "      <th>Percent Missing (%)</th>\n",
       "    </tr>\n",
       "  </thead>\n",
       "  <tbody>\n",
       "    <tr>\n",
       "      <th>NotRepaired</th>\n",
       "      <td>71154</td>\n",
       "      <td>20.079070</td>\n",
       "    </tr>\n",
       "    <tr>\n",
       "      <th>VehicleType</th>\n",
       "      <td>37490</td>\n",
       "      <td>10.579368</td>\n",
       "    </tr>\n",
       "    <tr>\n",
       "      <th>FuelType</th>\n",
       "      <td>32895</td>\n",
       "      <td>9.282697</td>\n",
       "    </tr>\n",
       "    <tr>\n",
       "      <th>Gearbox</th>\n",
       "      <td>19833</td>\n",
       "      <td>5.596709</td>\n",
       "    </tr>\n",
       "    <tr>\n",
       "      <th>Model</th>\n",
       "      <td>19705</td>\n",
       "      <td>5.560588</td>\n",
       "    </tr>\n",
       "  </tbody>\n",
       "</table>\n",
       "</div>"
      ],
      "text/plain": [
       "             Total Missing  Percent Missing (%)\n",
       "NotRepaired          71154            20.079070\n",
       "VehicleType          37490            10.579368\n",
       "FuelType             32895             9.282697\n",
       "Gearbox              19833             5.596709\n",
       "Model                19705             5.560588"
      ]
     },
     "metadata": {},
     "output_type": "display_data"
    }
   ],
   "source": [
    "# Revisar la cantidad de valores nulos en cada columna\n",
    "missing_values = df.isnull().sum()\n",
    "\n",
    "# Calcular el porcentaje de valores nulos\n",
    "missing_percent = (missing_values / len(df)) * 100\n",
    "\n",
    "# Resultados de valores faltantes\n",
    "missing_data = pd.DataFrame({\n",
    "    'Total Missing': missing_values,\n",
    "    'Percent Missing (%)': missing_percent\n",
    "})\n",
    "\n",
    "# Filtrar columnas que tengan valores nulos\n",
    "missing_data = missing_data[missing_data['Total Missing'] > 0].sort_values(by='Percent Missing (%)', ascending=False)\n",
    "\n",
    "display(missing_data)\n"
   ]
  },
  {
   "cell_type": "code",
   "execution_count": 17,
   "metadata": {},
   "outputs": [
    {
     "name": "stdout",
     "output_type": "stream",
     "text": [
      "No hay más valores nulos en el DataFrame.\n"
     ]
    },
    {
     "data": {
      "text/html": [
       "<div>\n",
       "<style scoped>\n",
       "    .dataframe tbody tr th:only-of-type {\n",
       "        vertical-align: middle;\n",
       "    }\n",
       "\n",
       "    .dataframe tbody tr th {\n",
       "        vertical-align: top;\n",
       "    }\n",
       "\n",
       "    .dataframe thead th {\n",
       "        text-align: right;\n",
       "    }\n",
       "</style>\n",
       "<table border=\"1\" class=\"dataframe\">\n",
       "  <thead>\n",
       "    <tr style=\"text-align: right;\">\n",
       "      <th></th>\n",
       "      <th>DateCrawled</th>\n",
       "      <th>Price</th>\n",
       "      <th>VehicleType</th>\n",
       "      <th>RegistrationYear</th>\n",
       "      <th>Gearbox</th>\n",
       "      <th>Power</th>\n",
       "      <th>Model</th>\n",
       "      <th>Mileage</th>\n",
       "      <th>RegistrationMonth</th>\n",
       "      <th>FuelType</th>\n",
       "      <th>Brand</th>\n",
       "      <th>NotRepaired</th>\n",
       "      <th>DateCreated</th>\n",
       "      <th>NumberOfPictures</th>\n",
       "      <th>PostalCode</th>\n",
       "      <th>LastSeen</th>\n",
       "    </tr>\n",
       "  </thead>\n",
       "  <tbody>\n",
       "    <tr>\n",
       "      <th>180053</th>\n",
       "      <td>19/03/2016 15:54</td>\n",
       "      <td>1050</td>\n",
       "      <td>small</td>\n",
       "      <td>2002</td>\n",
       "      <td>manual</td>\n",
       "      <td>131</td>\n",
       "      <td>ibiza</td>\n",
       "      <td>150000</td>\n",
       "      <td>3</td>\n",
       "      <td>gasoline</td>\n",
       "      <td>seat</td>\n",
       "      <td>desconocido</td>\n",
       "      <td>19/03/2016 00:00</td>\n",
       "      <td>0</td>\n",
       "      <td>82178</td>\n",
       "      <td>21/03/2016 21:17</td>\n",
       "    </tr>\n",
       "    <tr>\n",
       "      <th>259675</th>\n",
       "      <td>23/03/2016 18:53</td>\n",
       "      <td>13490</td>\n",
       "      <td>coupe</td>\n",
       "      <td>2010</td>\n",
       "      <td>manual</td>\n",
       "      <td>143</td>\n",
       "      <td>1er</td>\n",
       "      <td>125000</td>\n",
       "      <td>9</td>\n",
       "      <td>gasoline</td>\n",
       "      <td>bmw</td>\n",
       "      <td>no</td>\n",
       "      <td>23/03/2016 00:00</td>\n",
       "      <td>0</td>\n",
       "      <td>73329</td>\n",
       "      <td>05/04/2016 23:45</td>\n",
       "    </tr>\n",
       "    <tr>\n",
       "      <th>279033</th>\n",
       "      <td>13/03/2016 19:43</td>\n",
       "      <td>999</td>\n",
       "      <td>convertible</td>\n",
       "      <td>1994</td>\n",
       "      <td>manual</td>\n",
       "      <td>75</td>\n",
       "      <td>golf</td>\n",
       "      <td>150000</td>\n",
       "      <td>8</td>\n",
       "      <td>petrol</td>\n",
       "      <td>volkswagen</td>\n",
       "      <td>no</td>\n",
       "      <td>13/03/2016 00:00</td>\n",
       "      <td>0</td>\n",
       "      <td>71063</td>\n",
       "      <td>06/04/2016 18:44</td>\n",
       "    </tr>\n",
       "    <tr>\n",
       "      <th>305143</th>\n",
       "      <td>11/03/2016 16:43</td>\n",
       "      <td>11900</td>\n",
       "      <td>sedan</td>\n",
       "      <td>2008</td>\n",
       "      <td>auto</td>\n",
       "      <td>387</td>\n",
       "      <td>e_klasse</td>\n",
       "      <td>150000</td>\n",
       "      <td>1</td>\n",
       "      <td>petrol</td>\n",
       "      <td>mercedes_benz</td>\n",
       "      <td>no</td>\n",
       "      <td>11/03/2016 00:00</td>\n",
       "      <td>0</td>\n",
       "      <td>59192</td>\n",
       "      <td>15/03/2016 08:15</td>\n",
       "    </tr>\n",
       "    <tr>\n",
       "      <th>98347</th>\n",
       "      <td>22/03/2016 20:51</td>\n",
       "      <td>8340</td>\n",
       "      <td>convertible</td>\n",
       "      <td>2004</td>\n",
       "      <td>auto</td>\n",
       "      <td>192</td>\n",
       "      <td>3er</td>\n",
       "      <td>150000</td>\n",
       "      <td>7</td>\n",
       "      <td>petrol</td>\n",
       "      <td>bmw</td>\n",
       "      <td>no</td>\n",
       "      <td>22/03/2016 00:00</td>\n",
       "      <td>0</td>\n",
       "      <td>41540</td>\n",
       "      <td>06/04/2016 14:47</td>\n",
       "    </tr>\n",
       "  </tbody>\n",
       "</table>\n",
       "</div>"
      ],
      "text/plain": [
       "             DateCrawled  Price  VehicleType  RegistrationYear Gearbox  Power  \\\n",
       "180053  19/03/2016 15:54   1050        small              2002  manual    131   \n",
       "259675  23/03/2016 18:53  13490        coupe              2010  manual    143   \n",
       "279033  13/03/2016 19:43    999  convertible              1994  manual     75   \n",
       "305143  11/03/2016 16:43  11900        sedan              2008    auto    387   \n",
       "98347   22/03/2016 20:51   8340  convertible              2004    auto    192   \n",
       "\n",
       "           Model  Mileage  RegistrationMonth  FuelType          Brand  \\\n",
       "180053     ibiza   150000                  3  gasoline           seat   \n",
       "259675       1er   125000                  9  gasoline            bmw   \n",
       "279033      golf   150000                  8    petrol     volkswagen   \n",
       "305143  e_klasse   150000                  1    petrol  mercedes_benz   \n",
       "98347        3er   150000                  7    petrol            bmw   \n",
       "\n",
       "        NotRepaired       DateCreated  NumberOfPictures  PostalCode  \\\n",
       "180053  desconocido  19/03/2016 00:00                 0       82178   \n",
       "259675           no  23/03/2016 00:00                 0       73329   \n",
       "279033           no  13/03/2016 00:00                 0       71063   \n",
       "305143           no  11/03/2016 00:00                 0       59192   \n",
       "98347            no  22/03/2016 00:00                 0       41540   \n",
       "\n",
       "                LastSeen  \n",
       "180053  21/03/2016 21:17  \n",
       "259675  05/04/2016 23:45  \n",
       "279033  06/04/2016 18:44  \n",
       "305143  15/03/2016 08:15  \n",
       "98347   06/04/2016 14:47  "
      ]
     },
     "metadata": {},
     "output_type": "display_data"
    }
   ],
   "source": [
    "# Filtrar filas con valores nulos en ciertas columnas\n",
    "filtered_df = df.dropna(subset=['VehicleType', 'FuelType', 'Gearbox', 'Model']).copy()\n",
    "\n",
    "# Imputar la columna 'NotRepaired' con la categoría 'desconocido' usando .loc\n",
    "filtered_df.loc[:, 'NotRepaired'] = filtered_df['NotRepaired'].fillna('desconocido')\n",
    "\n",
    "# Verificar si quedan valores nulos\n",
    "remaining_missing = filtered_df.isnull().sum()\n",
    "\n",
    "# Mostrar las columnas que todavía tienen valores nulos\n",
    "\n",
    "\n",
    "if not remaining_missing[remaining_missing > 0].empty:\n",
    "    print(\"Aún hay valores nulos en las siguientes columnas:\", remaining_missing[remaining_missing > 0])\n",
    "else:\n",
    "    print(\"No hay más valores nulos en el DataFrame.\")\n",
    "\n",
    "display(filtered_df.sample(5))\n"
   ]
  },
  {
   "cell_type": "markdown",
   "metadata": {},
   "source": [
    "### Preparacion de datos (Explicacion)\n",
    "\n",
    "Durante este proceso de preparacion de datos se realizaron varias cosas, por ejemplo\n",
    "- Se cargo el archivo car_data.csv en un dataframe y realizamos un analisis de su estructura\n",
    "- Identificamos las columnas con valores nulos, cuantificando los porcentajes para determinar la mejor estrategia de manejo.\n",
    "\n",
    "Preparacion de datos\n",
    "\n",
    "- Se eliminaron las filas con valores nulos en VehicleType, FuelType, Gearbox y Model.\n",
    "- Para la columna NotRepaired, imputamos los valores nulos con una categoría \"desconocido\" para mantener la integridad de los datos.\n",
    "- Verificamos si quedaban valores nulos en otras columnas tras la imputación."
   ]
  },
  {
   "cell_type": "markdown",
   "metadata": {},
   "source": [
    "## Entrenamiento del modelo "
   ]
  },
  {
   "cell_type": "code",
   "execution_count": 21,
   "metadata": {},
   "outputs": [],
   "source": [
    "df_clean = filtered_df.copy()\n",
    "# Mostrar las columnas del DataFrame\n",
    "# Identificar las columnas categóricas y numéricas para el preprocesamiento\n",
    "categorical_columns = df_clean.select_dtypes(include=['object']).columns.tolist()\n",
    "numerical_columns = df_clean.select_dtypes(exclude=['object']).columns.tolist()\n",
    "numerical_columns.remove('Price')  # Asegurarse de que 'Price' no está en las columnas numéricas\n"
   ]
  },
  {
   "cell_type": "code",
   "execution_count": 22,
   "metadata": {},
   "outputs": [
    {
     "data": {
      "text/plain": [
       "((227300, 15), (56826, 15), (227300,), (56826,))"
      ]
     },
     "execution_count": 22,
     "metadata": {},
     "output_type": "execute_result"
    }
   ],
   "source": [
    "\n",
    "# Preprocesador para variables categóricas usando One-Hot Encoding\n",
    "categorical_transformer = Pipeline(steps=[\n",
    "    ('onehot', OneHotEncoder(handle_unknown='ignore'))\n",
    "])\n",
    "\n",
    "# Preprocesador para variables numéricas usando escalado estándar\n",
    "numerical_transformer = Pipeline(steps=[\n",
    "    ('scaler', StandardScaler())\n",
    "])\n",
    "\n",
    "# Combinar los transformadores en un único preprocesador\n",
    "preprocessor = ColumnTransformer(\n",
    "    transformers=[\n",
    "        ('num', numerical_transformer, numerical_columns),\n",
    "        ('cat', categorical_transformer, categorical_columns)\n",
    "    ])\n",
    "\n",
    "# Dividir los datos en conjuntos de entrenamiento y prueba\n",
    "X = df_clean.drop('Price', axis=1)\n",
    "y = df_clean['Price']\n",
    "X_train, X_test, y_train, y_test = train_test_split(X, y, test_size=0.2, random_state=42)\n",
    "\n",
    "# Mostrar el tamaño de los conjuntos de datos\n",
    "(X_train.shape, X_test.shape, y_train.shape, y_test.shape)\n"
   ]
  },
  {
   "cell_type": "markdown",
   "metadata": {},
   "source": [
    "## Análisis del modelo"
   ]
  },
  {
   "cell_type": "code",
   "execution_count": null,
   "metadata": {},
   "outputs": [],
   "source": []
  },
  {
   "cell_type": "markdown",
   "metadata": {},
   "source": [
    "# Lista de control"
   ]
  },
  {
   "cell_type": "markdown",
   "metadata": {},
   "source": [
    "Escribe 'x' para verificar. Luego presiona Shift+Enter"
   ]
  },
  {
   "cell_type": "markdown",
   "metadata": {},
   "source": [
    "- [x]  Jupyter Notebook está abierto\n",
    "- [ ]  El código no tiene errores- [ ]  Las celdas con el código han sido colocadas en orden de ejecución- [ ]  Los datos han sido descargados y preparados- [ ]  Los modelos han sido entrenados\n",
    "- [ ]  Se realizó el análisis de velocidad y calidad de los modelos"
   ]
  },
  {
   "cell_type": "code",
   "execution_count": null,
   "metadata": {},
   "outputs": [],
   "source": []
  }
 ],
 "metadata": {
  "kernelspec": {
   "display_name": "Python 3 (ipykernel)",
   "language": "python",
   "name": "python3"
  },
  "language_info": {
   "codemirror_mode": {
    "name": "ipython",
    "version": 3
   },
   "file_extension": ".py",
   "mimetype": "text/x-python",
   "name": "python",
   "nbconvert_exporter": "python",
   "pygments_lexer": "ipython3",
   "version": "3.11.4"
  },
  "toc": {
   "base_numbering": 1,
   "nav_menu": {},
   "number_sections": true,
   "sideBar": true,
   "skip_h1_title": true,
   "title_cell": "Table of Contents",
   "title_sidebar": "Contents",
   "toc_cell": false,
   "toc_position": {},
   "toc_section_display": true,
   "toc_window_display": false
  }
 },
 "nbformat": 4,
 "nbformat_minor": 2
}
