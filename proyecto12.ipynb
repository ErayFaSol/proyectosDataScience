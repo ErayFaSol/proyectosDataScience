{
 "cells": [
  {
   "cell_type": "markdown",
   "metadata": {},
   "source": [
    "El servicio de venta de autos usados Rusty Bargain está desarrollando una aplicación para atraer nuevos clientes. Gracias a esa app, puedes averiguar rápidamente el valor de mercado de tu coche. Tienes acceso al historial: especificaciones técnicas, versiones de equipamiento y precios. Tienes que crear un modelo que determine el valor de mercado.\n",
    "A Rusty Bargain le interesa:\n",
    "- la calidad de la predicción;\n",
    "- la velocidad de la predicción;\n",
    "- el tiempo requerido para el entrenamiento"
   ]
  },
  {
   "cell_type": "markdown",
   "metadata": {},
   "source": [
    "## Preparación de datos"
   ]
  },
  {
   "cell_type": "code",
   "execution_count": 1,
   "metadata": {},
   "outputs": [],
   "source": [
    "# Importar bibliotecas\n",
    "import pandas as pd\n",
    "import numpy as np\n",
    "from IPython.display import display, HTML\n",
    "from sklearn.model_selection import train_test_split, GridSearchCV\n",
    "from sklearn.preprocessing import OneHotEncoder\n",
    "from sklearn.compose import ColumnTransformer\n",
    "from sklearn.pipeline import Pipeline\n",
    "from sklearn.preprocessing import StandardScaler\n",
    "from sklearn.linear_model import LinearRegression\n",
    "from sklearn.tree import DecisionTreeRegressor\n",
    "from sklearn.ensemble import RandomForestRegressor\n",
    "import lightgbm as lgb\n",
    "from lightgbm import LGBMRegressor\n",
    "from sklearn.metrics import mean_squared_error\n",
    "from math import sqrt"
   ]
  },
  {
   "cell_type": "code",
   "execution_count": 2,
   "metadata": {},
   "outputs": [],
   "source": [
    "# Cargar DataSet\n",
    "df = pd.read_csv(\"datasets/car_data.csv\")"
   ]
  },
  {
   "cell_type": "code",
   "execution_count": 3,
   "metadata": {},
   "outputs": [
    {
     "data": {
      "text/html": [
       "<h1> Rusty Bargain DataFrame"
      ],
      "text/plain": [
       "<IPython.core.display.HTML object>"
      ]
     },
     "metadata": {},
     "output_type": "display_data"
    },
    {
     "data": {
      "text/html": [
       "<hr>"
      ],
      "text/plain": [
       "<IPython.core.display.HTML object>"
      ]
     },
     "metadata": {},
     "output_type": "display_data"
    },
    {
     "data": {
      "text/html": [
       "<h2> Informacion general"
      ],
      "text/plain": [
       "<IPython.core.display.HTML object>"
      ]
     },
     "metadata": {},
     "output_type": "display_data"
    },
    {
     "name": "stdout",
     "output_type": "stream",
     "text": [
      "<class 'pandas.core.frame.DataFrame'>\n",
      "RangeIndex: 354369 entries, 0 to 354368\n",
      "Data columns (total 16 columns):\n",
      " #   Column             Non-Null Count   Dtype \n",
      "---  ------             --------------   ----- \n",
      " 0   DateCrawled        354369 non-null  object\n",
      " 1   Price              354369 non-null  int64 \n",
      " 2   VehicleType        316879 non-null  object\n",
      " 3   RegistrationYear   354369 non-null  int64 \n",
      " 4   Gearbox            334536 non-null  object\n",
      " 5   Power              354369 non-null  int64 \n",
      " 6   Model              334664 non-null  object\n",
      " 7   Mileage            354369 non-null  int64 \n",
      " 8   RegistrationMonth  354369 non-null  int64 \n",
      " 9   FuelType           321474 non-null  object\n",
      " 10  Brand              354369 non-null  object\n",
      " 11  NotRepaired        283215 non-null  object\n",
      " 12  DateCreated        354369 non-null  object\n",
      " 13  NumberOfPictures   354369 non-null  int64 \n",
      " 14  PostalCode         354369 non-null  int64 \n",
      " 15  LastSeen           354369 non-null  object\n",
      "dtypes: int64(7), object(9)\n",
      "memory usage: 43.3+ MB\n"
     ]
    },
    {
     "data": {
      "text/plain": [
       "None"
      ]
     },
     "metadata": {},
     "output_type": "display_data"
    },
    {
     "data": {
      "text/html": [
       "<hr>"
      ],
      "text/plain": [
       "<IPython.core.display.HTML object>"
      ]
     },
     "metadata": {},
     "output_type": "display_data"
    },
    {
     "data": {
      "text/html": [
       "<h2> Estadisticas descriptivas"
      ],
      "text/plain": [
       "<IPython.core.display.HTML object>"
      ]
     },
     "metadata": {},
     "output_type": "display_data"
    },
    {
     "data": {
      "text/html": [
       "<div>\n",
       "<style scoped>\n",
       "    .dataframe tbody tr th:only-of-type {\n",
       "        vertical-align: middle;\n",
       "    }\n",
       "\n",
       "    .dataframe tbody tr th {\n",
       "        vertical-align: top;\n",
       "    }\n",
       "\n",
       "    .dataframe thead th {\n",
       "        text-align: right;\n",
       "    }\n",
       "</style>\n",
       "<table border=\"1\" class=\"dataframe\">\n",
       "  <thead>\n",
       "    <tr style=\"text-align: right;\">\n",
       "      <th></th>\n",
       "      <th>Price</th>\n",
       "      <th>RegistrationYear</th>\n",
       "      <th>Power</th>\n",
       "      <th>Mileage</th>\n",
       "      <th>RegistrationMonth</th>\n",
       "      <th>NumberOfPictures</th>\n",
       "      <th>PostalCode</th>\n",
       "    </tr>\n",
       "  </thead>\n",
       "  <tbody>\n",
       "    <tr>\n",
       "      <th>count</th>\n",
       "      <td>354369.000000</td>\n",
       "      <td>354369.000000</td>\n",
       "      <td>354369.000000</td>\n",
       "      <td>354369.000000</td>\n",
       "      <td>354369.000000</td>\n",
       "      <td>354369.0</td>\n",
       "      <td>354369.000000</td>\n",
       "    </tr>\n",
       "    <tr>\n",
       "      <th>mean</th>\n",
       "      <td>4416.656776</td>\n",
       "      <td>2004.234448</td>\n",
       "      <td>110.094337</td>\n",
       "      <td>128211.172535</td>\n",
       "      <td>5.714645</td>\n",
       "      <td>0.0</td>\n",
       "      <td>50508.689087</td>\n",
       "    </tr>\n",
       "    <tr>\n",
       "      <th>std</th>\n",
       "      <td>4514.158514</td>\n",
       "      <td>90.227958</td>\n",
       "      <td>189.850405</td>\n",
       "      <td>37905.341530</td>\n",
       "      <td>3.726421</td>\n",
       "      <td>0.0</td>\n",
       "      <td>25783.096248</td>\n",
       "    </tr>\n",
       "    <tr>\n",
       "      <th>min</th>\n",
       "      <td>0.000000</td>\n",
       "      <td>1000.000000</td>\n",
       "      <td>0.000000</td>\n",
       "      <td>5000.000000</td>\n",
       "      <td>0.000000</td>\n",
       "      <td>0.0</td>\n",
       "      <td>1067.000000</td>\n",
       "    </tr>\n",
       "    <tr>\n",
       "      <th>25%</th>\n",
       "      <td>1050.000000</td>\n",
       "      <td>1999.000000</td>\n",
       "      <td>69.000000</td>\n",
       "      <td>125000.000000</td>\n",
       "      <td>3.000000</td>\n",
       "      <td>0.0</td>\n",
       "      <td>30165.000000</td>\n",
       "    </tr>\n",
       "    <tr>\n",
       "      <th>50%</th>\n",
       "      <td>2700.000000</td>\n",
       "      <td>2003.000000</td>\n",
       "      <td>105.000000</td>\n",
       "      <td>150000.000000</td>\n",
       "      <td>6.000000</td>\n",
       "      <td>0.0</td>\n",
       "      <td>49413.000000</td>\n",
       "    </tr>\n",
       "    <tr>\n",
       "      <th>75%</th>\n",
       "      <td>6400.000000</td>\n",
       "      <td>2008.000000</td>\n",
       "      <td>143.000000</td>\n",
       "      <td>150000.000000</td>\n",
       "      <td>9.000000</td>\n",
       "      <td>0.0</td>\n",
       "      <td>71083.000000</td>\n",
       "    </tr>\n",
       "    <tr>\n",
       "      <th>max</th>\n",
       "      <td>20000.000000</td>\n",
       "      <td>9999.000000</td>\n",
       "      <td>20000.000000</td>\n",
       "      <td>150000.000000</td>\n",
       "      <td>12.000000</td>\n",
       "      <td>0.0</td>\n",
       "      <td>99998.000000</td>\n",
       "    </tr>\n",
       "  </tbody>\n",
       "</table>\n",
       "</div>"
      ],
      "text/plain": [
       "               Price  RegistrationYear          Power        Mileage  \\\n",
       "count  354369.000000     354369.000000  354369.000000  354369.000000   \n",
       "mean     4416.656776       2004.234448     110.094337  128211.172535   \n",
       "std      4514.158514         90.227958     189.850405   37905.341530   \n",
       "min         0.000000       1000.000000       0.000000    5000.000000   \n",
       "25%      1050.000000       1999.000000      69.000000  125000.000000   \n",
       "50%      2700.000000       2003.000000     105.000000  150000.000000   \n",
       "75%      6400.000000       2008.000000     143.000000  150000.000000   \n",
       "max     20000.000000       9999.000000   20000.000000  150000.000000   \n",
       "\n",
       "       RegistrationMonth  NumberOfPictures     PostalCode  \n",
       "count      354369.000000          354369.0  354369.000000  \n",
       "mean            5.714645               0.0   50508.689087  \n",
       "std             3.726421               0.0   25783.096248  \n",
       "min             0.000000               0.0    1067.000000  \n",
       "25%             3.000000               0.0   30165.000000  \n",
       "50%             6.000000               0.0   49413.000000  \n",
       "75%             9.000000               0.0   71083.000000  \n",
       "max            12.000000               0.0   99998.000000  "
      ]
     },
     "metadata": {},
     "output_type": "display_data"
    },
    {
     "data": {
      "text/html": [
       "<hr>"
      ],
      "text/plain": [
       "<IPython.core.display.HTML object>"
      ]
     },
     "metadata": {},
     "output_type": "display_data"
    },
    {
     "data": {
      "text/html": [
       "<h2> Muestra de tabla"
      ],
      "text/plain": [
       "<IPython.core.display.HTML object>"
      ]
     },
     "metadata": {},
     "output_type": "display_data"
    },
    {
     "data": {
      "text/html": [
       "<div>\n",
       "<style scoped>\n",
       "    .dataframe tbody tr th:only-of-type {\n",
       "        vertical-align: middle;\n",
       "    }\n",
       "\n",
       "    .dataframe tbody tr th {\n",
       "        vertical-align: top;\n",
       "    }\n",
       "\n",
       "    .dataframe thead th {\n",
       "        text-align: right;\n",
       "    }\n",
       "</style>\n",
       "<table border=\"1\" class=\"dataframe\">\n",
       "  <thead>\n",
       "    <tr style=\"text-align: right;\">\n",
       "      <th></th>\n",
       "      <th>DateCrawled</th>\n",
       "      <th>Price</th>\n",
       "      <th>VehicleType</th>\n",
       "      <th>RegistrationYear</th>\n",
       "      <th>Gearbox</th>\n",
       "      <th>Power</th>\n",
       "      <th>Model</th>\n",
       "      <th>Mileage</th>\n",
       "      <th>RegistrationMonth</th>\n",
       "      <th>FuelType</th>\n",
       "      <th>Brand</th>\n",
       "      <th>NotRepaired</th>\n",
       "      <th>DateCreated</th>\n",
       "      <th>NumberOfPictures</th>\n",
       "      <th>PostalCode</th>\n",
       "      <th>LastSeen</th>\n",
       "    </tr>\n",
       "  </thead>\n",
       "  <tbody>\n",
       "    <tr>\n",
       "      <th>76093</th>\n",
       "      <td>11/03/2016 17:43</td>\n",
       "      <td>8950</td>\n",
       "      <td>sedan</td>\n",
       "      <td>2011</td>\n",
       "      <td>manual</td>\n",
       "      <td>170</td>\n",
       "      <td>leon</td>\n",
       "      <td>150000</td>\n",
       "      <td>1</td>\n",
       "      <td>gasoline</td>\n",
       "      <td>seat</td>\n",
       "      <td>no</td>\n",
       "      <td>11/03/2016 00:00</td>\n",
       "      <td>0</td>\n",
       "      <td>35325</td>\n",
       "      <td>16/03/2016 04:47</td>\n",
       "    </tr>\n",
       "    <tr>\n",
       "      <th>52311</th>\n",
       "      <td>10/03/2016 18:44</td>\n",
       "      <td>500</td>\n",
       "      <td>small</td>\n",
       "      <td>2002</td>\n",
       "      <td>manual</td>\n",
       "      <td>54</td>\n",
       "      <td>seicento</td>\n",
       "      <td>70000</td>\n",
       "      <td>12</td>\n",
       "      <td>petrol</td>\n",
       "      <td>fiat</td>\n",
       "      <td>no</td>\n",
       "      <td>10/03/2016 00:00</td>\n",
       "      <td>0</td>\n",
       "      <td>13187</td>\n",
       "      <td>13/03/2016 00:15</td>\n",
       "    </tr>\n",
       "    <tr>\n",
       "      <th>289589</th>\n",
       "      <td>20/03/2016 13:59</td>\n",
       "      <td>2500</td>\n",
       "      <td>bus</td>\n",
       "      <td>2002</td>\n",
       "      <td>manual</td>\n",
       "      <td>128</td>\n",
       "      <td>other</td>\n",
       "      <td>150000</td>\n",
       "      <td>9</td>\n",
       "      <td>gasoline</td>\n",
       "      <td>citroen</td>\n",
       "      <td>no</td>\n",
       "      <td>20/03/2016 00:00</td>\n",
       "      <td>0</td>\n",
       "      <td>74211</td>\n",
       "      <td>28/03/2016 13:45</td>\n",
       "    </tr>\n",
       "    <tr>\n",
       "      <th>268231</th>\n",
       "      <td>17/03/2016 19:39</td>\n",
       "      <td>2150</td>\n",
       "      <td>NaN</td>\n",
       "      <td>2017</td>\n",
       "      <td>manual</td>\n",
       "      <td>0</td>\n",
       "      <td>zafira</td>\n",
       "      <td>150000</td>\n",
       "      <td>0</td>\n",
       "      <td>gasoline</td>\n",
       "      <td>opel</td>\n",
       "      <td>NaN</td>\n",
       "      <td>17/03/2016 00:00</td>\n",
       "      <td>0</td>\n",
       "      <td>24782</td>\n",
       "      <td>19/03/2016 19:45</td>\n",
       "    </tr>\n",
       "    <tr>\n",
       "      <th>86687</th>\n",
       "      <td>07/03/2016 16:45</td>\n",
       "      <td>11800</td>\n",
       "      <td>bus</td>\n",
       "      <td>2011</td>\n",
       "      <td>auto</td>\n",
       "      <td>170</td>\n",
       "      <td>sharan</td>\n",
       "      <td>150000</td>\n",
       "      <td>7</td>\n",
       "      <td>gasoline</td>\n",
       "      <td>volkswagen</td>\n",
       "      <td>yes</td>\n",
       "      <td>07/03/2016 00:00</td>\n",
       "      <td>0</td>\n",
       "      <td>66663</td>\n",
       "      <td>29/03/2016 10:45</td>\n",
       "    </tr>\n",
       "  </tbody>\n",
       "</table>\n",
       "</div>"
      ],
      "text/plain": [
       "             DateCrawled  Price VehicleType  RegistrationYear Gearbox  Power  \\\n",
       "76093   11/03/2016 17:43   8950       sedan              2011  manual    170   \n",
       "52311   10/03/2016 18:44    500       small              2002  manual     54   \n",
       "289589  20/03/2016 13:59   2500         bus              2002  manual    128   \n",
       "268231  17/03/2016 19:39   2150         NaN              2017  manual      0   \n",
       "86687   07/03/2016 16:45  11800         bus              2011    auto    170   \n",
       "\n",
       "           Model  Mileage  RegistrationMonth  FuelType       Brand  \\\n",
       "76093       leon   150000                  1  gasoline        seat   \n",
       "52311   seicento    70000                 12    petrol        fiat   \n",
       "289589     other   150000                  9  gasoline     citroen   \n",
       "268231    zafira   150000                  0  gasoline        opel   \n",
       "86687     sharan   150000                  7  gasoline  volkswagen   \n",
       "\n",
       "       NotRepaired       DateCreated  NumberOfPictures  PostalCode  \\\n",
       "76093           no  11/03/2016 00:00                 0       35325   \n",
       "52311           no  10/03/2016 00:00                 0       13187   \n",
       "289589          no  20/03/2016 00:00                 0       74211   \n",
       "268231         NaN  17/03/2016 00:00                 0       24782   \n",
       "86687          yes  07/03/2016 00:00                 0       66663   \n",
       "\n",
       "                LastSeen  \n",
       "76093   16/03/2016 04:47  \n",
       "52311   13/03/2016 00:15  \n",
       "289589  28/03/2016 13:45  \n",
       "268231  19/03/2016 19:45  \n",
       "86687   29/03/2016 10:45  "
      ]
     },
     "metadata": {},
     "output_type": "display_data"
    }
   ],
   "source": [
    "# Exploracion inicial \n",
    "display(HTML('<h1> Rusty Bargain DataFrame'))\n",
    "display(HTML('<hr>'))\n",
    "\n",
    "display(HTML('<h2> Informacion general'))\n",
    "display(df.info())\n",
    "display(HTML('<hr>'))\n",
    "\n",
    "display(HTML('<h2> Estadisticas descriptivas'))\n",
    "display(df.describe())\n",
    "display(HTML('<hr>'))\n",
    "\n",
    "display(HTML('<h2> Muestra de tabla'))\n",
    "display(df.sample(5))"
   ]
  },
  {
   "cell_type": "markdown",
   "metadata": {},
   "source": [
    "### Preprocesamiento de datos"
   ]
  },
  {
   "cell_type": "code",
   "execution_count": 4,
   "metadata": {},
   "outputs": [
    {
     "name": "stdout",
     "output_type": "stream",
     "text": [
      "Numero de duplicados previos: 262\n",
      "Verificacion de duplicados: 0\n"
     ]
    }
   ],
   "source": [
    "# Eliminar filas duplicadas\n",
    "print(f\"Numero de duplicados previos: {df.duplicated().sum()}\")\n",
    "df = df.drop_duplicates()\n",
    "print(f\"Verificacion de duplicados: {df.duplicated().sum()}\")"
   ]
  },
  {
   "cell_type": "code",
   "execution_count": 5,
   "metadata": {},
   "outputs": [
    {
     "name": "stdout",
     "output_type": "stream",
     "text": [
      "Numero de valores nulos previos: DateCrawled              0\n",
      "Price                    0\n",
      "VehicleType          37484\n",
      "RegistrationYear         0\n",
      "Gearbox              19830\n",
      "Power                    0\n",
      "Model                19701\n",
      "Mileage                  0\n",
      "RegistrationMonth        0\n",
      "FuelType             32889\n",
      "Brand                    0\n",
      "NotRepaired          71145\n",
      "DateCreated              0\n",
      "NumberOfPictures         0\n",
      "PostalCode               0\n",
      "LastSeen                 0\n",
      "dtype: int64\n",
      "Verificacion de valores nulos : DateCrawled          0\n",
      "Price                0\n",
      "VehicleType          0\n",
      "RegistrationYear     0\n",
      "Gearbox              0\n",
      "Power                0\n",
      "Model                0\n",
      "Mileage              0\n",
      "RegistrationMonth    0\n",
      "FuelType             0\n",
      "Brand                0\n",
      "NotRepaired          0\n",
      "DateCreated          0\n",
      "NumberOfPictures     0\n",
      "PostalCode           0\n",
      "LastSeen             0\n",
      "dtype: int64\n"
     ]
    }
   ],
   "source": [
    "print(f\"Numero de valores nulos previos: {df.isnull().sum()}\")\n",
    "\n",
    "# Imputar valores nulos con la moda para las columnas categoricas\n",
    "df['VehicleType'].fillna(df['VehicleType'].mode()[0], inplace=True)\n",
    "df['Gearbox'].fillna(df['Gearbox'].mode()[0], inplace=True)\n",
    "df['Model'].fillna(df['Model'].mode()[0], inplace=True)\n",
    "df['FuelType'].fillna(df['FuelType'].mode()[0], inplace=True)\n",
    "df['NotRepaired'].fillna('no', inplace=True)  # Asumimos que la mayoría de los autos no están reparados\n",
    "\n",
    "print(f\"Verificacion de valores nulos : {df.isnull().sum()}\")"
   ]
  },
  {
   "cell_type": "code",
   "execution_count": 6,
   "metadata": {},
   "outputs": [],
   "source": [
    "# Convertir columnas de fechas a formato datetime\n",
    "df['DateCrawled'] = pd.to_datetime(df['DateCrawled'], format='%d/%m/%Y %H:%M')\n",
    "df['DateCreated'] = pd.to_datetime(df['DateCreated'], format='%d/%m/%Y %H:%M')\n",
    "df['LastSeen'] = pd.to_datetime(df['LastSeen'], format='%d/%m/%Y %H:%M')\n"
   ]
  },
  {
   "cell_type": "code",
   "execution_count": 7,
   "metadata": {},
   "outputs": [],
   "source": [
    "# Eliminar columnas irrelevantes\n",
    "# Nota: Reiniciar el kernel despues de la primera ejecucion\n",
    "df = df.drop(columns=['NumberOfPictures'])\n"
   ]
  },
  {
   "cell_type": "code",
   "execution_count": 8,
   "metadata": {},
   "outputs": [
    {
     "data": {
      "text/html": [
       "<h1> Revisión final del DataFrame"
      ],
      "text/plain": [
       "<IPython.core.display.HTML object>"
      ]
     },
     "metadata": {},
     "output_type": "display_data"
    },
    {
     "name": "stdout",
     "output_type": "stream",
     "text": [
      "<class 'pandas.core.frame.DataFrame'>\n",
      "Index: 354107 entries, 0 to 354368\n",
      "Data columns (total 15 columns):\n",
      " #   Column             Non-Null Count   Dtype         \n",
      "---  ------             --------------   -----         \n",
      " 0   DateCrawled        354107 non-null  datetime64[ns]\n",
      " 1   Price              354107 non-null  int64         \n",
      " 2   VehicleType        354107 non-null  object        \n",
      " 3   RegistrationYear   354107 non-null  int64         \n",
      " 4   Gearbox            354107 non-null  object        \n",
      " 5   Power              354107 non-null  int64         \n",
      " 6   Model              354107 non-null  object        \n",
      " 7   Mileage            354107 non-null  int64         \n",
      " 8   RegistrationMonth  354107 non-null  int64         \n",
      " 9   FuelType           354107 non-null  object        \n",
      " 10  Brand              354107 non-null  object        \n",
      " 11  NotRepaired        354107 non-null  object        \n",
      " 12  DateCreated        354107 non-null  datetime64[ns]\n",
      " 13  PostalCode         354107 non-null  int64         \n",
      " 14  LastSeen           354107 non-null  datetime64[ns]\n",
      "dtypes: datetime64[ns](3), int64(6), object(6)\n",
      "memory usage: 43.2+ MB\n"
     ]
    },
    {
     "data": {
      "text/plain": [
       "None"
      ]
     },
     "metadata": {},
     "output_type": "display_data"
    },
    {
     "data": {
      "text/html": [
       "<div>\n",
       "<style scoped>\n",
       "    .dataframe tbody tr th:only-of-type {\n",
       "        vertical-align: middle;\n",
       "    }\n",
       "\n",
       "    .dataframe tbody tr th {\n",
       "        vertical-align: top;\n",
       "    }\n",
       "\n",
       "    .dataframe thead th {\n",
       "        text-align: right;\n",
       "    }\n",
       "</style>\n",
       "<table border=\"1\" class=\"dataframe\">\n",
       "  <thead>\n",
       "    <tr style=\"text-align: right;\">\n",
       "      <th></th>\n",
       "      <th>DateCrawled</th>\n",
       "      <th>Price</th>\n",
       "      <th>RegistrationYear</th>\n",
       "      <th>Power</th>\n",
       "      <th>Mileage</th>\n",
       "      <th>RegistrationMonth</th>\n",
       "      <th>DateCreated</th>\n",
       "      <th>PostalCode</th>\n",
       "      <th>LastSeen</th>\n",
       "    </tr>\n",
       "  </thead>\n",
       "  <tbody>\n",
       "    <tr>\n",
       "      <th>count</th>\n",
       "      <td>354107</td>\n",
       "      <td>354107.000000</td>\n",
       "      <td>354107.000000</td>\n",
       "      <td>354107.000000</td>\n",
       "      <td>354107.000000</td>\n",
       "      <td>354107.000000</td>\n",
       "      <td>354107</td>\n",
       "      <td>354107.000000</td>\n",
       "      <td>354107</td>\n",
       "    </tr>\n",
       "    <tr>\n",
       "      <th>mean</th>\n",
       "      <td>2016-03-21 12:56:48.735947008</td>\n",
       "      <td>4416.433287</td>\n",
       "      <td>2004.235355</td>\n",
       "      <td>110.089651</td>\n",
       "      <td>128211.811684</td>\n",
       "      <td>5.714182</td>\n",
       "      <td>2016-03-20 19:11:13.738728960</td>\n",
       "      <td>50507.145030</td>\n",
       "      <td>2016-03-29 23:51:12.374903808</td>\n",
       "    </tr>\n",
       "    <tr>\n",
       "      <th>min</th>\n",
       "      <td>2016-03-05 14:06:00</td>\n",
       "      <td>0.000000</td>\n",
       "      <td>1000.000000</td>\n",
       "      <td>0.000000</td>\n",
       "      <td>5000.000000</td>\n",
       "      <td>0.000000</td>\n",
       "      <td>2014-03-10 00:00:00</td>\n",
       "      <td>1067.000000</td>\n",
       "      <td>2016-03-05 14:15:00</td>\n",
       "    </tr>\n",
       "    <tr>\n",
       "      <th>25%</th>\n",
       "      <td>2016-03-13 11:52:00</td>\n",
       "      <td>1050.000000</td>\n",
       "      <td>1999.000000</td>\n",
       "      <td>69.000000</td>\n",
       "      <td>125000.000000</td>\n",
       "      <td>3.000000</td>\n",
       "      <td>2016-03-13 00:00:00</td>\n",
       "      <td>30165.000000</td>\n",
       "      <td>2016-03-23 02:50:00</td>\n",
       "    </tr>\n",
       "    <tr>\n",
       "      <th>50%</th>\n",
       "      <td>2016-03-21 17:50:00</td>\n",
       "      <td>2700.000000</td>\n",
       "      <td>2003.000000</td>\n",
       "      <td>105.000000</td>\n",
       "      <td>150000.000000</td>\n",
       "      <td>6.000000</td>\n",
       "      <td>2016-03-21 00:00:00</td>\n",
       "      <td>49406.000000</td>\n",
       "      <td>2016-04-03 15:15:00</td>\n",
       "    </tr>\n",
       "    <tr>\n",
       "      <th>75%</th>\n",
       "      <td>2016-03-29 14:36:00</td>\n",
       "      <td>6400.000000</td>\n",
       "      <td>2008.000000</td>\n",
       "      <td>143.000000</td>\n",
       "      <td>150000.000000</td>\n",
       "      <td>9.000000</td>\n",
       "      <td>2016-03-29 00:00:00</td>\n",
       "      <td>71083.000000</td>\n",
       "      <td>2016-04-06 10:06:00</td>\n",
       "    </tr>\n",
       "    <tr>\n",
       "      <th>max</th>\n",
       "      <td>2016-04-07 14:36:00</td>\n",
       "      <td>20000.000000</td>\n",
       "      <td>9999.000000</td>\n",
       "      <td>20000.000000</td>\n",
       "      <td>150000.000000</td>\n",
       "      <td>12.000000</td>\n",
       "      <td>2016-04-07 00:00:00</td>\n",
       "      <td>99998.000000</td>\n",
       "      <td>2016-04-07 14:58:00</td>\n",
       "    </tr>\n",
       "    <tr>\n",
       "      <th>std</th>\n",
       "      <td>NaN</td>\n",
       "      <td>4514.338584</td>\n",
       "      <td>90.261168</td>\n",
       "      <td>189.914972</td>\n",
       "      <td>37906.590101</td>\n",
       "      <td>3.726682</td>\n",
       "      <td>NaN</td>\n",
       "      <td>25784.212094</td>\n",
       "      <td>NaN</td>\n",
       "    </tr>\n",
       "  </tbody>\n",
       "</table>\n",
       "</div>"
      ],
      "text/plain": [
       "                         DateCrawled          Price  RegistrationYear  \\\n",
       "count                         354107  354107.000000     354107.000000   \n",
       "mean   2016-03-21 12:56:48.735947008    4416.433287       2004.235355   \n",
       "min              2016-03-05 14:06:00       0.000000       1000.000000   \n",
       "25%              2016-03-13 11:52:00    1050.000000       1999.000000   \n",
       "50%              2016-03-21 17:50:00    2700.000000       2003.000000   \n",
       "75%              2016-03-29 14:36:00    6400.000000       2008.000000   \n",
       "max              2016-04-07 14:36:00   20000.000000       9999.000000   \n",
       "std                              NaN    4514.338584         90.261168   \n",
       "\n",
       "               Power        Mileage  RegistrationMonth  \\\n",
       "count  354107.000000  354107.000000      354107.000000   \n",
       "mean      110.089651  128211.811684           5.714182   \n",
       "min         0.000000    5000.000000           0.000000   \n",
       "25%        69.000000  125000.000000           3.000000   \n",
       "50%       105.000000  150000.000000           6.000000   \n",
       "75%       143.000000  150000.000000           9.000000   \n",
       "max     20000.000000  150000.000000          12.000000   \n",
       "std       189.914972   37906.590101           3.726682   \n",
       "\n",
       "                         DateCreated     PostalCode  \\\n",
       "count                         354107  354107.000000   \n",
       "mean   2016-03-20 19:11:13.738728960   50507.145030   \n",
       "min              2014-03-10 00:00:00    1067.000000   \n",
       "25%              2016-03-13 00:00:00   30165.000000   \n",
       "50%              2016-03-21 00:00:00   49406.000000   \n",
       "75%              2016-03-29 00:00:00   71083.000000   \n",
       "max              2016-04-07 00:00:00   99998.000000   \n",
       "std                              NaN   25784.212094   \n",
       "\n",
       "                            LastSeen  \n",
       "count                         354107  \n",
       "mean   2016-03-29 23:51:12.374903808  \n",
       "min              2016-03-05 14:15:00  \n",
       "25%              2016-03-23 02:50:00  \n",
       "50%              2016-04-03 15:15:00  \n",
       "75%              2016-04-06 10:06:00  \n",
       "max              2016-04-07 14:58:00  \n",
       "std                              NaN  "
      ]
     },
     "metadata": {},
     "output_type": "display_data"
    },
    {
     "data": {
      "text/html": [
       "<div>\n",
       "<style scoped>\n",
       "    .dataframe tbody tr th:only-of-type {\n",
       "        vertical-align: middle;\n",
       "    }\n",
       "\n",
       "    .dataframe tbody tr th {\n",
       "        vertical-align: top;\n",
       "    }\n",
       "\n",
       "    .dataframe thead th {\n",
       "        text-align: right;\n",
       "    }\n",
       "</style>\n",
       "<table border=\"1\" class=\"dataframe\">\n",
       "  <thead>\n",
       "    <tr style=\"text-align: right;\">\n",
       "      <th></th>\n",
       "      <th>DateCrawled</th>\n",
       "      <th>Price</th>\n",
       "      <th>VehicleType</th>\n",
       "      <th>RegistrationYear</th>\n",
       "      <th>Gearbox</th>\n",
       "      <th>Power</th>\n",
       "      <th>Model</th>\n",
       "      <th>Mileage</th>\n",
       "      <th>RegistrationMonth</th>\n",
       "      <th>FuelType</th>\n",
       "      <th>Brand</th>\n",
       "      <th>NotRepaired</th>\n",
       "      <th>DateCreated</th>\n",
       "      <th>PostalCode</th>\n",
       "      <th>LastSeen</th>\n",
       "    </tr>\n",
       "  </thead>\n",
       "  <tbody>\n",
       "    <tr>\n",
       "      <th>9531</th>\n",
       "      <td>2016-03-10 20:50:00</td>\n",
       "      <td>899</td>\n",
       "      <td>wagon</td>\n",
       "      <td>1991</td>\n",
       "      <td>manual</td>\n",
       "      <td>77</td>\n",
       "      <td>transporter</td>\n",
       "      <td>150000</td>\n",
       "      <td>10</td>\n",
       "      <td>gasoline</td>\n",
       "      <td>volkswagen</td>\n",
       "      <td>no</td>\n",
       "      <td>2016-03-10</td>\n",
       "      <td>8280</td>\n",
       "      <td>2016-03-26 19:17:00</td>\n",
       "    </tr>\n",
       "    <tr>\n",
       "      <th>346937</th>\n",
       "      <td>2016-03-19 12:59:00</td>\n",
       "      <td>1200</td>\n",
       "      <td>sedan</td>\n",
       "      <td>2016</td>\n",
       "      <td>manual</td>\n",
       "      <td>0</td>\n",
       "      <td>a_klasse</td>\n",
       "      <td>150000</td>\n",
       "      <td>0</td>\n",
       "      <td>gasoline</td>\n",
       "      <td>mercedes_benz</td>\n",
       "      <td>no</td>\n",
       "      <td>2016-03-19</td>\n",
       "      <td>89077</td>\n",
       "      <td>2016-03-19 12:59:00</td>\n",
       "    </tr>\n",
       "    <tr>\n",
       "      <th>30886</th>\n",
       "      <td>2016-03-14 19:39:00</td>\n",
       "      <td>9000</td>\n",
       "      <td>convertible</td>\n",
       "      <td>2004</td>\n",
       "      <td>manual</td>\n",
       "      <td>163</td>\n",
       "      <td>a4</td>\n",
       "      <td>90000</td>\n",
       "      <td>7</td>\n",
       "      <td>petrol</td>\n",
       "      <td>audi</td>\n",
       "      <td>no</td>\n",
       "      <td>2016-03-14</td>\n",
       "      <td>73072</td>\n",
       "      <td>2016-03-19 07:47:00</td>\n",
       "    </tr>\n",
       "    <tr>\n",
       "      <th>97308</th>\n",
       "      <td>2016-03-17 11:54:00</td>\n",
       "      <td>5699</td>\n",
       "      <td>bus</td>\n",
       "      <td>2009</td>\n",
       "      <td>manual</td>\n",
       "      <td>125</td>\n",
       "      <td>zafira</td>\n",
       "      <td>150000</td>\n",
       "      <td>10</td>\n",
       "      <td>gasoline</td>\n",
       "      <td>opel</td>\n",
       "      <td>no</td>\n",
       "      <td>2016-03-17</td>\n",
       "      <td>51065</td>\n",
       "      <td>2016-03-17 11:54:00</td>\n",
       "    </tr>\n",
       "    <tr>\n",
       "      <th>11074</th>\n",
       "      <td>2016-03-31 00:38:00</td>\n",
       "      <td>6499</td>\n",
       "      <td>suv</td>\n",
       "      <td>2004</td>\n",
       "      <td>manual</td>\n",
       "      <td>209</td>\n",
       "      <td>xc_reihe</td>\n",
       "      <td>150000</td>\n",
       "      <td>9</td>\n",
       "      <td>petrol</td>\n",
       "      <td>volvo</td>\n",
       "      <td>no</td>\n",
       "      <td>2016-03-30</td>\n",
       "      <td>1454</td>\n",
       "      <td>2016-03-31 06:42:00</td>\n",
       "    </tr>\n",
       "  </tbody>\n",
       "</table>\n",
       "</div>"
      ],
      "text/plain": [
       "               DateCrawled  Price  VehicleType  RegistrationYear Gearbox  \\\n",
       "9531   2016-03-10 20:50:00    899        wagon              1991  manual   \n",
       "346937 2016-03-19 12:59:00   1200        sedan              2016  manual   \n",
       "30886  2016-03-14 19:39:00   9000  convertible              2004  manual   \n",
       "97308  2016-03-17 11:54:00   5699          bus              2009  manual   \n",
       "11074  2016-03-31 00:38:00   6499          suv              2004  manual   \n",
       "\n",
       "        Power        Model  Mileage  RegistrationMonth  FuelType  \\\n",
       "9531       77  transporter   150000                 10  gasoline   \n",
       "346937      0     a_klasse   150000                  0  gasoline   \n",
       "30886     163           a4    90000                  7    petrol   \n",
       "97308     125       zafira   150000                 10  gasoline   \n",
       "11074     209     xc_reihe   150000                  9    petrol   \n",
       "\n",
       "                Brand NotRepaired DateCreated  PostalCode            LastSeen  \n",
       "9531       volkswagen          no  2016-03-10        8280 2016-03-26 19:17:00  \n",
       "346937  mercedes_benz          no  2016-03-19       89077 2016-03-19 12:59:00  \n",
       "30886            audi          no  2016-03-14       73072 2016-03-19 07:47:00  \n",
       "97308            opel          no  2016-03-17       51065 2016-03-17 11:54:00  \n",
       "11074           volvo          no  2016-03-30        1454 2016-03-31 06:42:00  "
      ]
     },
     "metadata": {},
     "output_type": "display_data"
    }
   ],
   "source": [
    "\n",
    "# Revisión final de los datos\n",
    "display(HTML('<h1> Revisión final del DataFrame'))\n",
    "display(df.info())\n",
    "display(df.describe())\n",
    "display(df.sample(5))"
   ]
  },
  {
   "cell_type": "markdown",
   "metadata": {},
   "source": [
    "### Preparacion de datos (Explicacion)\n",
    "\n",
    "Durante este proceso de preparacion de datos se realizaron varias cosas, por ejemplo\n",
    "- Se cargo el archivo car_data.csv en un dataframe y realizamos un analisis de su estructura\n",
    "\n",
    "- Se realizo una exploracoon inicial usando metodos como .info() para obtener detalles sobre el numero de entradas, tipos de datos y balores nulos.\n",
    "\n",
    "- Generamos estadisticas descriptivas de las columnas numericas usando el metodo .describe()\n",
    "\n",
    "- Obtuvimos una muestra aleatoria del dataframe mediante el uso del metodo sample()\n",
    "\n",
    "- Se descarto las filas duplicadas con el metodo drop_duplicates\n",
    "\n",
    "- Imputamos los valores nulos de las columnas categóricas con la moda (valor más frecuente) usando fillna().\n",
    "\n",
    "- Se realizaron cambios en la columnas de fecha convirtiendolo al formato adecuado usando el metodo pd.to_datetime()\n",
    "\n",
    "- Tambien se elimino la columna \"NumberOfPictures\" ya que todos sus valores son 0 y no aportan informacion util al modelo."
   ]
  },
  {
   "cell_type": "markdown",
   "metadata": {},
   "source": [
    "## Entrenamiento del modelo "
   ]
  },
  {
   "cell_type": "code",
   "execution_count": 9,
   "metadata": {},
   "outputs": [],
   "source": [
    "# Excluir columnas de fechas\n",
    "columns_to_exclude = ['DateCrawled', 'DateCreated', 'LastSeen']\n",
    "\n",
    "# Division del conjunto de datos:\n",
    "\n",
    "X = df.drop(columns=['Price'] + columns_to_exclude)\n",
    "y = df['Price']\n",
    "X_train, X_test, y_train, y_test = train_test_split(X, y, test_size=0.2, random_state=12345)"
   ]
  },
  {
   "cell_type": "code",
   "execution_count": 10,
   "metadata": {},
   "outputs": [],
   "source": [
    "# Codificacion de variables categoricas (OHE)\n",
    "X_train = pd.get_dummies(X_train, drop_first=True)\n",
    "X_test = pd.get_dummies(X_test, drop_first=True)\n",
    "\n",
    "# Asegurarse de que ambas matrices tienen las mismas columnas\n",
    "X_train, X_test = X_train.align(X_test, join='left', axis=1, fill_value=0)\n"
   ]
  },
  {
   "cell_type": "code",
   "execution_count": 11,
   "metadata": {},
   "outputs": [
    {
     "name": "stdout",
     "output_type": "stream",
     "text": [
      "Regresion linear RMSE: 3240.4091744479674\n"
     ]
    }
   ],
   "source": [
    "# Regresion linear\n",
    "\n",
    "lin_reg = LinearRegression()\n",
    "lin_reg.fit(X_train, y_train)\n",
    "\n",
    "y_pred_lin = lin_reg.predict(X_test)\n",
    "\n",
    "#evaluacion\n",
    "mse_lin = mean_squared_error(y_test, y_pred_lin)\n",
    "rmse_lin = np.sqrt(mse_lin)\n",
    "print(f'Regresion linear RMSE: {rmse_lin}')\n"
   ]
  },
  {
   "cell_type": "code",
   "execution_count": 12,
   "metadata": {},
   "outputs": [
    {
     "name": "stdout",
     "output_type": "stream",
     "text": [
      "Decision Tree RMSE: 2307.6841994650886\n"
     ]
    }
   ],
   "source": [
    "# Árbol de decisión \n",
    "tree_reg = DecisionTreeRegressor(random_state=12345)\n",
    "tree_reg.fit(X_train, y_train)\n",
    "\n",
    "y_pred_tree = tree_reg.predict(X_test)\n",
    "\n",
    "mse_tree = mean_squared_error(y_test, y_pred_tree)\n",
    "rmse_tree = np.sqrt(mse_tree)\n",
    "print(f'Decision Tree RMSE: {rmse_tree}')"
   ]
  },
  {
   "cell_type": "code",
   "execution_count": 13,
   "metadata": {},
   "outputs": [
    {
     "name": "stdout",
     "output_type": "stream",
     "text": [
      "Random Forest RMSE: 2956.922930379335\n"
     ]
    }
   ],
   "source": [
    "# Ajustar los parámetros para reducir el tiempo de entrenamiento\n",
    "forest_reg = RandomForestRegressor(\n",
    "    n_estimators=100,       # Reducir el número de árboles\n",
    "    max_depth=10,           # Limitar la profundidad máxima de los árboles\n",
    "    max_features='sqrt',    # Reducir el número de características consideradas\n",
    "    n_jobs=-1,              # Paralelizar el entrenamiento (usa todos los núcleos disponibles)\n",
    "    random_state=42\n",
    ")\n",
    "\n",
    "# Entrenar el modelo\n",
    "forest_reg.fit(X_train, y_train)\n",
    "\n",
    "# Predicciones\n",
    "y_pred_forest = forest_reg.predict(X_test)\n",
    "\n",
    "# Evaluación\n",
    "mse_forest = mean_squared_error(y_test, y_pred_forest)\n",
    "rmse_forest = np.sqrt(mse_forest)\n",
    "print(f'Random Forest RMSE: {rmse_forest}')\n"
   ]
  },
  {
   "cell_type": "code",
   "execution_count": 21,
   "metadata": {},
   "outputs": [
    {
     "name": "stdout",
     "output_type": "stream",
     "text": [
      "Training until validation scores don't improve for 100 rounds\n",
      "[100]\ttrain's rmse: 1822.41\tvalid's rmse: 1862.67\n",
      "[200]\ttrain's rmse: 1755.77\tvalid's rmse: 1813.86\n",
      "[300]\ttrain's rmse: 1715.05\tvalid's rmse: 1789.71\n",
      "[400]\ttrain's rmse: 1686.5\tvalid's rmse: 1776.44\n",
      "[500]\ttrain's rmse: 1661.09\tvalid's rmse: 1764.74\n",
      "[600]\ttrain's rmse: 1639.77\tvalid's rmse: 1756.01\n",
      "[700]\ttrain's rmse: 1619.75\tvalid's rmse: 1749.34\n",
      "[800]\ttrain's rmse: 1601.84\tvalid's rmse: 1744.17\n",
      "[900]\ttrain's rmse: 1585.76\tvalid's rmse: 1739.56\n",
      "[1000]\ttrain's rmse: 1571.06\tvalid's rmse: 1735.66\n",
      "Did not meet early stopping. Best iteration is:\n",
      "[998]\ttrain's rmse: 1571.38\tvalid's rmse: 1735.61\n",
      "LightGBM RMSE: 1735.611708819157\n"
     ]
    }
   ],
   "source": [
    "# Preparar datos para LightGBM\n",
    "train_data = lgb.Dataset(X_train, label=y_train)\n",
    "valid_data = lgb.Dataset(X_test, label=y_test, reference=train_data)\n",
    "\n",
    "# Parámetros\n",
    "params = {\n",
    "    'objective': 'regression',\n",
    "    'metric': 'rmse',\n",
    "    'boosting_type': 'gbdt',\n",
    "    'verbose': -1\n",
    "}\n",
    "\n",
    "# Entrenar el modelo con early stopping\n",
    "lgbm_reg = lgb.train(\n",
    "    params,\n",
    "    train_data,\n",
    "    num_boost_round=1000,\n",
    "    valid_sets=[train_data, valid_data],\n",
    "    valid_names=['train', 'valid'],\n",
    "    callbacks=[\n",
    "        lgb.early_stopping(stopping_rounds=100),\n",
    "        lgb.log_evaluation(100),\n",
    "        ],\n",
    ")\n",
    "\n",
    "# Predicciones\n",
    "y_pred_lgbm = lgbm_reg.predict(X_test, num_iteration=lgbm_reg.best_iteration)\n",
    "\n",
    "# Evaluación\n",
    "mse_lgbm = mean_squared_error(y_test, y_pred_lgbm)\n",
    "rmse_lgbm = np.sqrt(mse_lgbm)\n",
    "print(f'LightGBM RMSE: {rmse_lgbm}')"
   ]
  },
  {
   "cell_type": "markdown",
   "metadata": {},
   "source": [
    "## Análisis del modelo"
   ]
  },
  {
   "cell_type": "code",
   "execution_count": null,
   "metadata": {},
   "outputs": [],
   "source": [
    "#Comparacion entre modelos\n"
   ]
  },
  {
   "cell_type": "markdown",
   "metadata": {},
   "source": [
    "# Lista de control"
   ]
  },
  {
   "cell_type": "markdown",
   "metadata": {},
   "source": [
    "Escribe 'x' para verificar. Luego presiona Shift+Enter"
   ]
  },
  {
   "cell_type": "markdown",
   "metadata": {},
   "source": [
    "- [x]  Jupyter Notebook está abierto\n",
    "- [ ]  El código no tiene errores- [ ]  Las celdas con el código han sido colocadas en orden de ejecución- [ ]  Los datos han sido descargados y preparados- [ ]  Los modelos han sido entrenados\n",
    "- [ ]  Se realizó el análisis de velocidad y calidad de los modelos"
   ]
  },
  {
   "cell_type": "code",
   "execution_count": null,
   "metadata": {},
   "outputs": [],
   "source": []
  }
 ],
 "metadata": {
  "kernelspec": {
   "display_name": "Python 3 (ipykernel)",
   "language": "python",
   "name": "python3"
  },
  "language_info": {
   "codemirror_mode": {
    "name": "ipython",
    "version": 3
   },
   "file_extension": ".py",
   "mimetype": "text/x-python",
   "name": "python",
   "nbconvert_exporter": "python",
   "pygments_lexer": "ipython3",
   "version": "3.11.4"
  },
  "toc": {
   "base_numbering": 1,
   "nav_menu": {},
   "number_sections": true,
   "sideBar": true,
   "skip_h1_title": true,
   "title_cell": "Table of Contents",
   "title_sidebar": "Contents",
   "toc_cell": false,
   "toc_position": {},
   "toc_section_display": true,
   "toc_window_display": false
  }
 },
 "nbformat": 4,
 "nbformat_minor": 2
}
